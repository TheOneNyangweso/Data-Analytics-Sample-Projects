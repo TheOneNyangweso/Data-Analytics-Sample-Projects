{
 "cells": [
  {
   "cell_type": "markdown",
   "metadata": {},
   "source": [
    "### Data Source : https://www.kaggle.com/datasets/vivovinco/2023-2024-nba-player-stats\n",
    "\n",
    "With the focus being in the playoffs data\n",
    "**Objective**\n",
    "\n",
    "- Performance Evaluation: By analyzing the stats, you can evaluate the performance of individual players, teams, or even coaches. This can help in understanding strengths and weaknesses, and can be useful for strategy development.\n",
    "- Trend Identification: Analyzing stats over time can help identify trends. For example, you might be able to identify if a player performs better against certain teams, or if a team tends to win more often at home. These trends can provide valuable insights for fans, analysts, and teams.\n"
   ]
  },
  {
   "cell_type": "code",
   "execution_count": null,
   "metadata": {},
   "outputs": [],
   "source": [
    "# Standard imports\n",
    "import pandas as pd\n",
    "%matplotlib inline\n",
    "import matplotlib.pyplot as plt\n",
    "import seaborn as sns; sns.set_theme()\n",
    "import numpy as np"
   ]
  },
  {
   "cell_type": "code",
   "execution_count": null,
   "metadata": {},
   "outputs": [],
   "source": [
    "path = \"/home/nyangweso/Desktop/Ds_1/Data-Analytics-Sample-Projects/NBA-Analysis/2023-2024 NBA Player Stats - Playoffs.csv\""
   ]
  },
  {
   "cell_type": "code",
   "execution_count": null,
   "metadata": {},
   "outputs": [],
   "source": [
    "df = pd.read_csv(path, sep=\";\")\n",
    "df.head(10)\n",
    "# The first 10 rowns of the dataframe are displayed"
   ]
  },
  {
   "cell_type": "code",
   "execution_count": null,
   "metadata": {},
   "outputs": [],
   "source": [
    "df.columns"
   ]
  },
  {
   "cell_type": "markdown",
   "metadata": {},
   "source": [
    "#### 1. player points per game\n"
   ]
  },
  {
   "cell_type": "code",
   "execution_count": null,
   "metadata": {},
   "outputs": [],
   "source": [
    "# Setting the size of the figure\n",
    "plt.figure(figsize=(15, 7))\n",
    "\n",
    "df_sorted = df.sort_values('PTS', ascending=False)\n",
    "\n",
    "# Create a bar plot with 'Player' on the x-axis and 'PTS' (Points) on the y-axis\n",
    "# The 'hue' parameter is set to 'Tm' (team), which will color the bars based on the team\n",
    "sns.barplot(x=df_sorted['Player'], y=df_sorted['PTS'],\n",
    "            hue=df_sorted['Tm'], dodge=False, palette='hsv')\n",
    "\n",
    "plt.xlabel('Player')\n",
    "plt.ylabel('Points')\n",
    "plt.title('Points by Player')\n",
    "\n",
    "# Rotating the x-axis labels by 90 degrees for better visibility\n",
    "plt.xticks(rotation=90)\n",
    "\n",
    "plt.show()\n",
    "\n",
    "\n",
    "# Result:\n",
    "# Points by Player: Anthony Edwards is joint highest with Tyrese Maxey while\n",
    "# Joe ingles is the last with any points above zero"
   ]
  },
  {
   "cell_type": "markdown",
   "metadata": {},
   "source": [
    "#### 2. team points per game so-far\n"
   ]
  },
  {
   "cell_type": "code",
   "execution_count": null,
   "metadata": {},
   "outputs": [],
   "source": [
    "# Grouping the data by team and calculate the total points for each team\n",
    "grouped = df.groupby('Tm')['PTS'].sum()\n",
    "\n",
    "# Creating the bar chart\n",
    "plt.bar(grouped.index, grouped)\n",
    "plt.xlabel('Team')\n",
    "plt.ylabel('Total Points')\n",
    "plt.title('Total Points by Team')\n",
    "\n",
    "plt.xticks(rotation=90)\n",
    "\n",
    "plt.show()\n",
    "\n",
    "# Result:\n",
    "# With the available teams in the dataframe, Minessota Timberwolves are the highest scoring team\n",
    "# Orlando Magic is the lowerst scoring team"
   ]
  },
  {
   "cell_type": "markdown",
   "metadata": {},
   "source": [
    "#### 3. Game stats\n"
   ]
  },
  {
   "cell_type": "code",
   "execution_count": null,
   "metadata": {},
   "outputs": [],
   "source": [
    "plt.figure(figsize=(15, 21))\n",
    "\n",
    "# Creating the first subplot for 'Top Players in the Paint'\n",
    "plt.subplot(3, 1, 1)\n",
    "sns.barplot(x='Player', y='2P', data=df, hue='Tm', dodge=False, palette='hsv')\n",
    "plt.xlabel('Player')\n",
    "plt.ylabel('2-Point Field Goals')\n",
    "plt.title('Top Players in the Paint')\n",
    "plt.xticks(rotation=90)\n",
    "\n",
    "# Creating the second subplot for 'Top 3P Players'\n",
    "plt.subplot(3, 1, 2)\n",
    "sns.barplot(x='Player', y='3P', data=df, hue='Tm', dodge=False, palette='hsv')\n",
    "plt.xlabel('Player')\n",
    "plt.ylabel('3-Point Field Goals')\n",
    "plt.title('Top 3P Players')\n",
    "plt.xticks(rotation=90)\n",
    "\n",
    "# Creating the third subplot for 'Top Players by Assists'\n",
    "plt.subplot(3, 1, 3)\n",
    "sns.barplot(x='Player', y='AST', data=df, hue='Tm', dodge=False, palette='hsv')\n",
    "plt.xlabel('Player')\n",
    "plt.ylabel('Assists')\n",
    "plt.title('Top Players by Assists')\n",
    "plt.xticks(rotation=90)\n",
    "\n",
    "# Display the plot\n",
    "plt.tight_layout()\n",
    "\n",
    "plt.show()\n",
    "\n",
    "\n",
    "# Results\n",
    "# Centers and Power Forwards dominate the point with Nikola Jokic being the highest\n",
    "# Most players who take atleast a 3 point shot take between 2 to 4 3Ps per game"
   ]
  },
  {
   "cell_type": "markdown",
   "metadata": {},
   "source": [
    "### 4. Age distribution\n"
   ]
  },
  {
   "cell_type": "code",
   "execution_count": null,
   "metadata": {},
   "outputs": [],
   "source": [
    "# Creating the histogram with a density line\n",
    "sns.histplot(df['Age'], bins=10, kde=True)\n",
    "\n",
    "plt.xlabel('Age')\n",
    "plt.ylabel('Frequency')\n",
    "plt.title('Age Distribution')\n",
    "plt.show()\n",
    "\n",
    "# Results:\n",
    "# Most Players are between 22 and 28 years of age"
   ]
  },
  {
   "cell_type": "markdown",
   "metadata": {},
   "source": [
    "### 5. Shot Distribution by the best player\n"
   ]
  },
  {
   "cell_type": "code",
   "execution_count": null,
   "metadata": {},
   "outputs": [],
   "source": [
    "# Identifying the best player based on points scored\n",
    "best_player = df[df['PTS'] == df['PTS'].max()]['Player'].values[0]\n",
    "\n",
    "# Filtering the data for the best player\n",
    "best_player_data = df[df['Player'] == best_player]\n",
    "\n",
    "# Calculating the total field goals percantage, 3-point field goals percantage, and 2-point field goals percantage\n",
    "total_FGA = best_player_data['FG%'].sum()\n",
    "total_3PA = best_player_data['3P%'].sum()\n",
    "total_2PA = best_player_data['2P%'].sum()\n",
    "\n",
    "# Creating the pie chart\n",
    "plt.pie([total_3PA, total_2PA], labels=[\n",
    "        '3P%', '2P%'], autopct='%1.1f%%')\n",
    "plt.title('Shots Percantage by ' + best_player +\n",
    "          ' with field goal % of ' + str(total_FGA * 100))\n",
    "plt.show()\n",
    "\n",
    "# Results:\n",
    "# With Anthony Edwards making 58.3 % of his field goals, majority of his shots made are taken within the 3 point lline"
   ]
  },
  {
   "cell_type": "code",
   "execution_count": null,
   "metadata": {},
   "outputs": [],
   "source": [
    "df.columns"
   ]
  },
  {
   "cell_type": "markdown",
   "metadata": {},
   "source": [
    "### 6. Offense Impact by players (points + assists)\n"
   ]
  },
  {
   "cell_type": "code",
   "execution_count": null,
   "metadata": {},
   "outputs": [],
   "source": [
    "\n",
    "plt.figure(figsize=(15, 7))\n",
    "\n",
    "plot = sns.scatterplot(x='PTS', y='AST', hue='Tm',\n",
    "                       size=(df['PTS'] + df['AST']), sizes=(20, 200), data=df)\n",
    "\n",
    "# Adding player names to the scatter plot points\n",
    "for line in range(0, df.shape[0]):\n",
    "    plot.text(df.PTS[line]+0.2, df.AST[line], df.Player[line],\n",
    "              horizontalalignment='left', size='small', color='black')\n",
    "\n",
    "plt.xlabel('Points')\n",
    "plt.ylabel('Assists')\n",
    "plt.title('Distribution of Points and Assists per Match')\n",
    "\n",
    "# Displaying the plot\n",
    "plt.show()\n",
    "\n",
    "\n",
    "# Results:\n",
    "# 1.JAmal Murray has the most assists\n",
    "# 2. Nikola Jokic seems to be the most valuable with the highest pts + assist per game"
   ]
  },
  {
   "cell_type": "markdown",
   "metadata": {},
   "source": [
    "### Conclusion:\n",
    "\n",
    "Based on the data seen in the code, here are some conclusions we can draw about the playoff NBA stats:\n",
    "\n",
    "1. **Player Performance**: The player with the highest points and assists per game is Nikola Jokic, making him one of the most valuable players. His ability to score points and assist other players contributes significantly to his team's success.\n",
    "\n",
    "2. **Team Performance**: When looking at the teams, the Minnesota Timberwolves have the highest scoring team, while the Orlando Magic have the lowest scoring team. This could be due to various factors such as player performance, team strategy, etc.\n",
    "\n",
    "3. **Shot Selection**: Anthony Edwards, despite making 58.3% of his field goals, takes the majority of his shots within the 3-point line. This could be indicative of his playing style or the team's offensive strategy.\n",
    "\n",
    "4. **Player Positions**: Centers and Power Forwards, such as Nikola Jokic, dominate in terms of points scored in the paint (2-point field goals). This is likely due to their position and role on the court, which often involves close-range shots.\n"
   ]
  },
  {
   "cell_type": "markdown",
   "metadata": {},
   "source": [
    "### References\n",
    "\n",
    "- https://www.kaggle.com/datasets/vivovinco/2023-2024-nba-player-stats\n",
    "- https://www.nba.com/stats\n",
    "- https://www.statmuse.com/nba\n"
   ]
  }
 ],
 "metadata": {
  "kernelspec": {
   "display_name": "cohere",
   "language": "python",
   "name": "python3"
  },
  "language_info": {
   "codemirror_mode": {
    "name": "ipython",
    "version": 3
   },
   "file_extension": ".py",
   "mimetype": "text/x-python",
   "name": "python",
   "nbconvert_exporter": "python",
   "pygments_lexer": "ipython3",
   "version": "3.11.4"
  }
 },
 "nbformat": 4,
 "nbformat_minor": 2
}
